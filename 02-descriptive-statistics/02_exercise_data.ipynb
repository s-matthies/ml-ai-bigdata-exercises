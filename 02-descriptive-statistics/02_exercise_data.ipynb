{
 "cells": [
  {
   "cell_type": "markdown",
   "metadata": {},
   "source": [
    "# Daten beschaffen und statistisch beschreiben"
   ]
  },
  {
   "cell_type": "markdown",
   "metadata": {},
   "source": [
    "## 1. Datensatz finden\n",
    "\n",
    "1. Finde einen für interessanten Datensatz.\n",
    "\n",
    "Sammlungen von Datensätzen:\n",
    "\n",
    "https://github.com/awesomedata/awesome-public-datasets  \n",
    "https://www.kaggle.com/datasets    \n",
    "https://archive.ics.uci.edu/datasets  \n",
    "https://data.gov/  \n",
    "https://datasetsearch.research.google.com/  \n",
    "https://www.kdnuggets.com/datasets/index.html  \n",
    "\n",
    "2. Importiere den Datensatz als ein Pandas Dataframe.\n",
    "3. Zeige einen Ausschnitt der Daten in Form einer Tabelle."
   ]
  },
  {
   "cell_type": "code",
   "execution_count": 2,
   "metadata": {},
   "outputs": [],
   "source": [
    "import pandas as pd\n",
    "\n",
    "# Direkt von der URL den Datensatz laden\n",
    "url = \"https://raw.githubusercontent.com/allisonhorst/palmerpenguins/master/inst/extdata/penguins.csv\"\n",
    "\n",
    "# Lade den Datensatz in ein Pandas DataFrame\n",
    "df = pd.read_csv(url)"
   ]
  },
  {
   "cell_type": "code",
   "execution_count": 7,
   "metadata": {},
   "outputs": [
    {
     "data": {
      "text/html": [
       "<div>\n",
       "<style scoped>\n",
       "    .dataframe tbody tr th:only-of-type {\n",
       "        vertical-align: middle;\n",
       "    }\n",
       "\n",
       "    .dataframe tbody tr th {\n",
       "        vertical-align: top;\n",
       "    }\n",
       "\n",
       "    .dataframe thead th {\n",
       "        text-align: right;\n",
       "    }\n",
       "</style>\n",
       "<table border=\"1\" class=\"dataframe\">\n",
       "  <thead>\n",
       "    <tr style=\"text-align: right;\">\n",
       "      <th></th>\n",
       "      <th>species</th>\n",
       "      <th>island</th>\n",
       "      <th>bill_length_mm</th>\n",
       "      <th>bill_depth_mm</th>\n",
       "      <th>flipper_length_mm</th>\n",
       "      <th>body_mass_g</th>\n",
       "      <th>sex</th>\n",
       "      <th>year</th>\n",
       "    </tr>\n",
       "  </thead>\n",
       "  <tbody>\n",
       "    <tr>\n",
       "      <th>0</th>\n",
       "      <td>Adelie</td>\n",
       "      <td>Torgersen</td>\n",
       "      <td>39.1</td>\n",
       "      <td>18.7</td>\n",
       "      <td>181.0</td>\n",
       "      <td>3750.0</td>\n",
       "      <td>male</td>\n",
       "      <td>2007</td>\n",
       "    </tr>\n",
       "    <tr>\n",
       "      <th>1</th>\n",
       "      <td>Adelie</td>\n",
       "      <td>Torgersen</td>\n",
       "      <td>39.5</td>\n",
       "      <td>17.4</td>\n",
       "      <td>186.0</td>\n",
       "      <td>3800.0</td>\n",
       "      <td>female</td>\n",
       "      <td>2007</td>\n",
       "    </tr>\n",
       "    <tr>\n",
       "      <th>2</th>\n",
       "      <td>Adelie</td>\n",
       "      <td>Torgersen</td>\n",
       "      <td>40.3</td>\n",
       "      <td>18.0</td>\n",
       "      <td>195.0</td>\n",
       "      <td>3250.0</td>\n",
       "      <td>female</td>\n",
       "      <td>2007</td>\n",
       "    </tr>\n",
       "    <tr>\n",
       "      <th>3</th>\n",
       "      <td>Adelie</td>\n",
       "      <td>Torgersen</td>\n",
       "      <td>NaN</td>\n",
       "      <td>NaN</td>\n",
       "      <td>NaN</td>\n",
       "      <td>NaN</td>\n",
       "      <td>NaN</td>\n",
       "      <td>2007</td>\n",
       "    </tr>\n",
       "    <tr>\n",
       "      <th>4</th>\n",
       "      <td>Adelie</td>\n",
       "      <td>Torgersen</td>\n",
       "      <td>36.7</td>\n",
       "      <td>19.3</td>\n",
       "      <td>193.0</td>\n",
       "      <td>3450.0</td>\n",
       "      <td>female</td>\n",
       "      <td>2007</td>\n",
       "    </tr>\n",
       "  </tbody>\n",
       "</table>\n",
       "</div>"
      ],
      "text/plain": [
       "  species     island  bill_length_mm  bill_depth_mm  flipper_length_mm  \\\n",
       "0  Adelie  Torgersen            39.1           18.7              181.0   \n",
       "1  Adelie  Torgersen            39.5           17.4              186.0   \n",
       "2  Adelie  Torgersen            40.3           18.0              195.0   \n",
       "3  Adelie  Torgersen             NaN            NaN                NaN   \n",
       "4  Adelie  Torgersen            36.7           19.3              193.0   \n",
       "\n",
       "   body_mass_g     sex  year  \n",
       "0       3750.0    male  2007  \n",
       "1       3800.0  female  2007  \n",
       "2       3250.0  female  2007  \n",
       "3          NaN     NaN  2007  \n",
       "4       3450.0  female  2007  "
      ]
     },
     "execution_count": 7,
     "metadata": {},
     "output_type": "execute_result"
    }
   ],
   "source": [
    "df.head()"
   ]
  },
  {
   "cell_type": "code",
   "execution_count": 6,
   "metadata": {},
   "outputs": [
    {
     "data": {
      "text/html": [
       "<div>\n",
       "<style scoped>\n",
       "    .dataframe tbody tr th:only-of-type {\n",
       "        vertical-align: middle;\n",
       "    }\n",
       "\n",
       "    .dataframe tbody tr th {\n",
       "        vertical-align: top;\n",
       "    }\n",
       "\n",
       "    .dataframe thead th {\n",
       "        text-align: right;\n",
       "    }\n",
       "</style>\n",
       "<table border=\"1\" class=\"dataframe\">\n",
       "  <thead>\n",
       "    <tr style=\"text-align: right;\">\n",
       "      <th></th>\n",
       "      <th>species</th>\n",
       "      <th>island</th>\n",
       "      <th>bill_length_mm</th>\n",
       "      <th>bill_depth_mm</th>\n",
       "      <th>flipper_length_mm</th>\n",
       "      <th>body_mass_g</th>\n",
       "      <th>sex</th>\n",
       "      <th>year</th>\n",
       "    </tr>\n",
       "  </thead>\n",
       "  <tbody>\n",
       "    <tr>\n",
       "      <th>339</th>\n",
       "      <td>Chinstrap</td>\n",
       "      <td>Dream</td>\n",
       "      <td>55.8</td>\n",
       "      <td>19.8</td>\n",
       "      <td>207.0</td>\n",
       "      <td>4000.0</td>\n",
       "      <td>male</td>\n",
       "      <td>2009</td>\n",
       "    </tr>\n",
       "    <tr>\n",
       "      <th>340</th>\n",
       "      <td>Chinstrap</td>\n",
       "      <td>Dream</td>\n",
       "      <td>43.5</td>\n",
       "      <td>18.1</td>\n",
       "      <td>202.0</td>\n",
       "      <td>3400.0</td>\n",
       "      <td>female</td>\n",
       "      <td>2009</td>\n",
       "    </tr>\n",
       "    <tr>\n",
       "      <th>341</th>\n",
       "      <td>Chinstrap</td>\n",
       "      <td>Dream</td>\n",
       "      <td>49.6</td>\n",
       "      <td>18.2</td>\n",
       "      <td>193.0</td>\n",
       "      <td>3775.0</td>\n",
       "      <td>male</td>\n",
       "      <td>2009</td>\n",
       "    </tr>\n",
       "    <tr>\n",
       "      <th>342</th>\n",
       "      <td>Chinstrap</td>\n",
       "      <td>Dream</td>\n",
       "      <td>50.8</td>\n",
       "      <td>19.0</td>\n",
       "      <td>210.0</td>\n",
       "      <td>4100.0</td>\n",
       "      <td>male</td>\n",
       "      <td>2009</td>\n",
       "    </tr>\n",
       "    <tr>\n",
       "      <th>343</th>\n",
       "      <td>Chinstrap</td>\n",
       "      <td>Dream</td>\n",
       "      <td>50.2</td>\n",
       "      <td>18.7</td>\n",
       "      <td>198.0</td>\n",
       "      <td>3775.0</td>\n",
       "      <td>female</td>\n",
       "      <td>2009</td>\n",
       "    </tr>\n",
       "  </tbody>\n",
       "</table>\n",
       "</div>"
      ],
      "text/plain": [
       "       species island  bill_length_mm  bill_depth_mm  flipper_length_mm  \\\n",
       "339  Chinstrap  Dream            55.8           19.8              207.0   \n",
       "340  Chinstrap  Dream            43.5           18.1              202.0   \n",
       "341  Chinstrap  Dream            49.6           18.2              193.0   \n",
       "342  Chinstrap  Dream            50.8           19.0              210.0   \n",
       "343  Chinstrap  Dream            50.2           18.7              198.0   \n",
       "\n",
       "     body_mass_g     sex  year  \n",
       "339       4000.0    male  2009  \n",
       "340       3400.0  female  2009  \n",
       "341       3775.0    male  2009  \n",
       "342       4100.0    male  2009  \n",
       "343       3775.0  female  2009  "
      ]
     },
     "execution_count": 6,
     "metadata": {},
     "output_type": "execute_result"
    }
   ],
   "source": [
    "df.tail()"
   ]
  },
  {
   "cell_type": "markdown",
   "metadata": {},
   "source": [
    "## 2. Ermittle Charakteristika des Datensatzes\n",
    "1. In wie fern handelt es sich bei dem Datensatz um eine Stichprobe?\n",
    "2. Finde Beispielvariablen in dem Datensatz, welche \n",
    "kontinuierlich, diskret, nominal und ordinal sind (wenn verfügbar)."
   ]
  },
  {
   "cell_type": "markdown",
   "metadata": {},
   "source": [
    "**zu 1.)**\n",
    "- Ja, der Palmer Penguins-Datensatz ist eine Stichprobe, da er nur eine begrenzte Anzahl von Pinguinen in bestimmten Gebieten (insbesondere in Palmer Station, Antarktis) repräsentiert und nicht die gesamte Population aller Pinguine weltweit.\n",
    "\n",
    "- Stichprobe: Der Datensatz umfasst nur eine Auswahl von Pinguinen und liefert damit Informationen über diese spezifische Gruppe. Um Aussagen über die gesamte Pinguinpopulation zu machen, müsste man eine größere Anzahl von Pinguinen aus verschiedenen Regionen und verschiedenen Zeitpunkten betrachten."
   ]
  },
  {
   "cell_type": "markdown",
   "metadata": {},
   "source": [
    "**zu 2.)**\n",
    "- **Kontinuierlich**: Zahlen mit unendlich vielen möglichen Werten (z. B. Gewicht, Länge).\n",
    "- **Diskret**: Zählbare Zahlen mit nur bestimmten möglichen Werten (z. B. Anzahl der Kinder).\n",
    "- **Nominal**: Kategorien ohne Reihenfolge (z. B. Haarfarbe, Geschlecht).\n",
    "- **Ordinal**: Kategorien mit einer natürlichen Reihenfolge (z. B. Schulnoten, Bewertungen).\n",
    "\n",
    "#### kontinuierliche Variablen\n",
    "- `bill_length_mm` ((Länge des Schnabels in Millimetern),\n",
    "\n",
    "    `bill_depth_mm` (Tiefe des Schnabels in Millimetern),\n",
    "\n",
    "  `flipper_length_mm` (Länge des Flippers in Millimetern),\n",
    "\n",
    "  `body_mass_g` (Körpermasse in Gramm)\n",
    "\n",
    "#### diskrete Variablen\n",
    "- `year`\n",
    "\n",
    "#### nominale Varibalen\n",
    "- `species`, `island`, `sex`\n",
    "\n",
    "#### ordial: \n",
    "- keine klaren ordinalen Variablen\n",
    "\n"
   ]
  },
  {
   "cell_type": "markdown",
   "metadata": {},
   "source": [
    "## 3. Berechne Lage- und Streuungsmaße für eine Variable\n",
    "1. Lagemaße: Median, Modus, Arithmetisches Mittel, unteres und oberes Quartil.\n",
    "2. Streuungsmaße: Spannweite, IQR, Varianz, Standardabweichung, Schiefe, Wölbung."
   ]
  },
  {
   "cell_type": "markdown",
   "metadata": {},
   "source": [
    "**Variable `bill_length_mm`**\n",
    "\n",
    "**1. Lagemaße:**\n",
    "\n",
    "- Median: Der Mittelwert der Werte, wenn sie der Größe nach geordnet sind.\n",
    "- Modus: Der häufigste Wert im Datensatz.\n",
    "- Arithmetisches Mittel (Durchschnitt): Summe der Werte geteilt durch die Anzahl der Werte.\n",
    "- Unteres und oberes Quartil (Q1 und Q3): Die Werte, die die unteren 25% und die oberen 75% der Daten trennen."
   ]
  },
  {
   "cell_type": "code",
   "execution_count": 12,
   "metadata": {},
   "outputs": [
    {
     "name": "stdout",
     "output_type": "stream",
     "text": [
      "Lagemaße:\n",
      "Median: 44.45\n",
      "Modus: 41.1\n",
      "Arithmetisches Mittel: 43.9219298245614\n",
      "Untere Quartil (Q1): 39.225\n",
      "Obere Quartil (Q3): 48.5\n"
     ]
    }
   ],
   "source": [
    "median = df['bill_length_mm'].median()\n",
    "mode = df['bill_length_mm'].mode()[0]  # Der Modus gibt eine Serie zurück, daher [0] um den ersten Wert zu bekommen\n",
    "mean = df['bill_length_mm'].mean() \n",
    "\n",
    "# Quartile\n",
    "Q1 = df['bill_length_mm'].quantile(0.25)\n",
    "Q3 = df['bill_length_mm'].quantile(0.75)\n",
    "\n",
    "print(\"Lagemaße:\")\n",
    "print(f\"Median: {median}\")\n",
    "print(f\"Modus: {mode}\")\n",
    "print(f\"Arithmetisches Mittel: {mean}\")\n",
    "print(f\"Untere Quartil (Q1): {Q1}\")\n",
    "print(f\"Obere Quartil (Q3): {Q3}\")"
   ]
  },
  {
   "cell_type": "markdown",
   "metadata": {},
   "source": [
    "**2.) Streuungsmaße**\n",
    "- Spannweite (Range): Differenz zwischen dem maximalen und dem minimalen Wert.\n",
    "- Interquartilsabstand (IQR): Unterschied zwischen dem oberen und unteren Quartil.\n",
    "- Varianz: Maß für die Streuung der Werte.\n",
    "- Standardabweichung: Die Quadratwurzel der Varianz, ebenfalls ein Maß für die Streuung.\n",
    "- Schiefe (Skewness): Gibt an, ob die Verteilung schief ist.\n",
    "- Wölbung (Kurtosis): Gibt die \"Spitzigkeit\" oder Flachheit der Verteilung an."
   ]
  },
  {
   "cell_type": "code",
   "execution_count": 15,
   "metadata": {},
   "outputs": [
    {
     "name": "stdout",
     "output_type": "stream",
     "text": [
      "\n",
      "Streuungsmaße:\n",
      "Spannweite: 27.5\n",
      "Interquartilsabstand (IQR): 9.274999999999999\n",
      "Varianz: 29.807054329371816\n",
      "Standardabweichung: 5.4595837139265315\n",
      "Schiefe: 0.05311806699132413\n",
      "Wölbung: -0.8760269663060134\n"
     ]
    }
   ],
   "source": [
    "# Berechnungen der Streuungsmaße\n",
    "range_val = df['bill_length_mm'].max() - df['bill_length_mm'].min()\n",
    "IQR = Q3 - Q1\n",
    "variance = df['bill_length_mm'].var()\n",
    "std_dev = df['bill_length_mm'].std()\n",
    "skewness = df['bill_length_mm'].skew()\n",
    "kurtosis = df['bill_length_mm'].kurt()\n",
    "\n",
    "print(\"\\nStreuungsmaße:\")\n",
    "print(f\"Spannweite: {range_val}\")\n",
    "print(f\"Interquartilsabstand (IQR): {IQR}\")\n",
    "print(f\"Varianz: {variance}\")\n",
    "print(f\"Standardabweichung: {std_dev}\")\n",
    "print(f\"Schiefe: {skewness}\")\n",
    "print(f\"Wölbung: {kurtosis}\")"
   ]
  },
  {
   "cell_type": "markdown",
   "metadata": {},
   "source": [
    "**1. Spannweite: 27.5**\n",
    "- Definition: Größter Wert minus kleinster Wert.\n",
    "- Bedeutung: Die Daten variieren über eine Spanne von 27,5 Einheiten.\n",
    "- Achtung: Sehr anfällig für Ausreißer – ein einziger Extremwert kann die Spannweite stark verzerren.\n",
    "\n",
    "**2. Interquartilsabstand (IQR): 9.27**\n",
    "- Definition: Q3 - Q1 → Streuung der mittleren 50 % der Daten.\n",
    "- Bedeutung: Die mittleren 50 % deiner Daten liegen innerhalb eines Bereichs von 9,27 Einheiten.\n",
    "- Vorteil: Robuster gegen Ausreißer als die Spannweite.\n",
    "\n",
    "**3. Varianz: 29.81**\n",
    "- Definition: Durchschnitt der quadrierten Abweichungen vom Mittelwert.\n",
    "- Bedeutung: Ein Maß dafür, wie stark die Werte im Durchschnitt vom Mittelwert abweichen.\n",
    "- Einheit: Quadrat der Originaleinheit (z. B. mm², wenn es um Schnabellänge in mm geht).\n",
    "\n",
    "**4. Standardabweichung: 5.46**\n",
    "- Definition: Quadratwurzel der Varianz.\n",
    "- Bedeutung: Die Werte weichen im Schnitt um etwa 5,46 Einheiten vom Mittelwert ab.\n",
    "- Einheit: Gleiche Einheit wie die Messwerte (z. B. mm).\n",
    "- Interpretation: Typische Streuung der Werte um den Mittelwert – gut vergleichbar zwischen Variablen.\n",
    "\n",
    "**5. Schiefe (Skewness): 0.053**\n",
    "- Definition: Maß für die Asymmetrie der Verteilung.\n",
    "- Interpretation:\n",
    "- 0 = symmetrisch.\n",
    "\n",
    "        > 0 = leichte Rechtsschiefe (langer „Schwanz“ rechts).\n",
    "\n",
    "        < 0 = Linksschiefe.\n",
    "\n",
    "- Dein Wert: 0.053 ist fast 0 → nahezu symmetrische Verteilung.\n",
    "\n",
    "**6. Wölbung (Kurtosis): -0.876**\n",
    "- Definition: Maß für die \"Spitzigkeit\" oder \"Flachheit\" der Verteilung.\n",
    "- Interpretation:\n",
    "   \n",
    "        0 = normalverteilt.\n",
    "\n",
    "        > 0 = „spitzere“ Verteilung (mehr Ausreißer, „heavy tails“).\n",
    "\n",
    "        < 0 = flachere Verteilung als Normalverteilung („leichtbauchig“).\n",
    "\n",
    "- Dein Wert: -0.876 → flacher als eine Normalverteilung, weniger extreme Ausreißer."
   ]
  },
  {
   "cell_type": "markdown",
   "metadata": {},
   "source": [
    "## 4. Histogramm darstellen\n",
    "Zeige 2 Histogramme mit verschiedenen Klassengrößen für die Häufigkeitsverteilung einer Variable (z.B. 5 Klassen und 20 Klassen)."
   ]
  },
  {
   "cell_type": "code",
   "execution_count": 31,
   "metadata": {},
   "outputs": [],
   "source": [
    "# !pip install matplotlib"
   ]
  },
  {
   "cell_type": "code",
   "execution_count": 18,
   "metadata": {},
   "outputs": [],
   "source": [
    "import matplotlib.pyplot as plt"
   ]
  },
  {
   "cell_type": "code",
   "execution_count": 30,
   "metadata": {},
   "outputs": [
    {
     "data": {
      "image/png": "[encoded data removed]",
      "text/plain": [
       "<Figure size 1200x500 with 2 Axes>"
      ]
     },
     "metadata": {},
     "output_type": "display_data"
    }
   ],
   "source": [
    "# Bsp. Schnabellänge, NaN-Werte entfernen\n",
    "data = df[\"bill_length_mm\"].dropna()\n",
    "\n",
    "plt.figure(figsize=(12, 5))\n",
    "\n",
    "# Histogramm mit 5 Klassen\n",
    "plt.subplot(1, 2, 1)  # 1 Zeile, 2 Spalten, 1. Plot (der linke)\n",
    "plt.hist(data, bins=5, color=\"skyblue\", edgecolor=\"black\")\n",
    "plt.title(\"Histogramm: Schnabellänge (5 Klassen)\")\n",
    "plt.xlabel(\"bill_length_mm\")\n",
    "plt.ylabel(\"Häufigkeit\")\n",
    "\n",
    "# Histogramm mit 20 Klassen\n",
    "plt.subplot(1, 2, 2) # 1 Zeile, 2 Spalten, 2. Plot (der rechte)\n",
    "plt.hist(data, bins=20, color=\"salmon\", edgecolor=\"black\")\n",
    "plt.title(\"Histogramm: Schnabellänge (20 Klassen)\")\n",
    "plt.xlabel(\"bill_length_mm\")\n",
    "plt.ylabel(\"Häufigkeit\")\n",
    "\n",
    "plt.tight_layout()\n",
    "plt.show()\n"
   ]
  },
  {
   "cell_type": "markdown",
   "metadata": {},
   "source": [
    "**bins=5** bedeutet: \n",
    "- Der Wertebereich (z.B. von 32 mm bis 60 mm Schnabellänge) wird in 5 gleich breite Intervalle (also Klassen) aufgeteilt.\n",
    "- Dann zählt matplotlib, wie viele Werte in jede Klasse fallen (= Häufigkeit)."
   ]
  },
  {
   "cell_type": "markdown",
   "metadata": {},
   "source": [
    "## 5. Zusammenhangsmaße\n",
    "Wähle zwei Variablen aus, bei denen du einen Zusammenhang vermutest und berechne die Kovarianz und Pearson-Korrelation der beiden."
   ]
  },
  {
   "cell_type": "markdown",
   "metadata": {},
   "source": [
    "**Kovarianz** \n",
    "- misst, **ob zwei Variablen gemeinsam variieren**:\n",
    "    - **positiv**: Wenn eine Variable steigt, steigt die andere tendenziell auch.\n",
    "    - **negativ**: Wenn eine Variable steigt, sinkt die andere tendenziell.\n",
    "- Problem: **Einheitenabhängig** – schwer vergleichbar, da die Skala keine Standardgröße hat.\n",
    "\n",
    "**Pearson-Korrelation (r)**\n",
    "- Misst den linearen Zusammenhang zwischen zwei Variablen.\n",
    "    - Skala: von -1 bis +1\n",
    "    - +1 → starker positiver linearer Zusammenhang\n",
    "    - 0 → kein linearer Zusammenhang\n",
    "    - -1 → starker negativer linearer Zusammenhang"
   ]
  },
  {
   "cell_type": "markdown",
   "metadata": {},
   "source": [
    "#### Zusammenhang zwischen der Schnabellänge (`bill_length_mm`) und Schnabeltiefe (`bill_length_mm`)"
   ]
  },
  {
   "cell_type": "code",
   "execution_count": 38,
   "metadata": {},
   "outputs": [
    {
     "name": "stdout",
     "output_type": "stream",
     "text": [
      "Kovarianz:\n",
      "                 bill_length_mm    body_mass_g\n",
      "bill_length_mm       29.807054    2605.591912\n",
      "body_mass_g        2605.591912  643131.077327\n"
     ]
    }
   ],
   "source": [
    "# relevante Spalten und fehlende Werte entfernen\n",
    "df_clean = df[[\"bill_length_mm\", \"body_mass_g\"]].dropna()\n",
    "\n",
    "# Kovarianz\n",
    "cov = df_clean.cov()\n",
    "print(\"Kovarianz:\\n\", cov)"
   ]
  },
  {
   "cell_type": "markdown",
   "metadata": {},
   "source": [
    "- Kovarianz zwischen `bill_length_mm` und `body_mass_g`: 2605.59\n",
    "- zeigt **positive Kovarianz** zwischen der Schnabellänge und dem Gewicht\n",
    "- positive Kovarianz: dass größere Werte einer Variable tendenziell mit größeren Werten der anderen Variable verbunden sind. &rarr; Je länger der Schnabel, desto größer das Gewicht (aber der Wert alleine sagt noch nichts darüber aus, wie stark der Zusammenhang ist).\n",
    "\n",
    "Die absolute Größe der Kovarianz ist schwierig zu interpretieren, da sie von den Einheiten der Variablen abhängt (hier Millimeter für die Schnabellänge und Gramm für das Gewicht).\n",
    "\n",
    "**&rarr; Wenn Einheiten der Variablen unterschiedlich, dann Einheiten standardisieren!!**"
   ]
  },
  {
   "cell_type": "code",
   "execution_count": 39,
   "metadata": {},
   "outputs": [
    {
     "name": "stdout",
     "output_type": "stream",
     "text": [
      "\n",
      "Pearson-Korrelation:\n",
      "                 bill_length_mm  body_mass_g\n",
      "bill_length_mm         1.00000      0.59511\n",
      "body_mass_g            0.59511      1.00000\n"
     ]
    }
   ],
   "source": [
    "# Pearson-Korrelation\n",
    "corr = df_clean.corr(method=\"pearson\")\n",
    "print(\"\\nPearson-Korrelation:\\n\", corr)"
   ]
  },
  {
   "cell_type": "markdown",
   "metadata": {},
   "source": [
    "**Pearson-Korrelation: 0.595**\n",
    "- zeigt einen moderat positiven linearen Zusammenhang zwischen der Schnabellänge und dem Gewicht\n",
    "- Werte nahe bei 1 (zwischen 0.5 und 1) zeigen, dass der Zusammenhang positiv und relativ stark ist. D.h., es gibt eine **mäßige Tendenz**, dass ein längerer Schnabel mit einem höheren Gewicht korreliert.\n",
    "\n",
    "**&rarr; Kovarianz zeigt den positiven Zusammenhang, aber die Pearson-Korrelation quantifiziert den Zusammenhang mit einem Wert von 0.595, was als mäßig starker positiver Zusammenhang interpretiert werden kann.**"
   ]
  },
  {
   "cell_type": "code",
   "execution_count": 51,
   "metadata": {},
   "outputs": [
    {
     "data": {
      "image/png": "[encoded data removed]",
      "text/plain": [
       "<Figure size 600x400 with 1 Axes>"
      ]
     },
     "metadata": {},
     "output_type": "display_data"
    }
   ],
   "source": [
    "# Streudiagramm erstellen\n",
    "plt.figure(figsize=(6, 4))\n",
    "plt.scatter(df['bill_length_mm'], df['body_mass_g'], alpha=0.6, edgecolors=\"w\", s=50)\n",
    "plt.title('Streudiagramm von Schnabellänge vs Körpermasse', fontsize=12)\n",
    "plt.xlabel('bill_length (mm)', fontsize=10)\n",
    "plt.ylabel('body_mass (g)', fontsize=10)\n",
    "plt.grid(True)\n",
    "plt.show()"
   ]
  },
  {
   "cell_type": "markdown",
   "metadata": {},
   "source": [
    "- `plt.scatter()`: Diese Funktion erstellt das Streudiagramm, indem sie die Werte der beiden Variablen auf den x- und y-Achsen plotten.\n",
    "- `alpha=0.6`: Setzt die Transparenz der Punkte, um Überlagerungen besser sichtbar zu machen.\n",
    "- `edgecolors=\"w\"`: Fügt weiße Ränder um die Punkte hinzu, um sie deutlicher zu machen.\n",
    "- `s=100`: Definiert die Größe der Punkte.\n",
    "- `plt.title(), plt.xlabel(), plt.ylabel()`: fügen Titel und Achsenbeschriftungen hinzu.\n",
    "- `plt.grid(True)`: Zeigt ein Gitter im Hintergrund des Diagramms an, um die Werte besser ablesen zu können."
   ]
  },
  {
   "cell_type": "markdown",
   "metadata": {},
   "source": [
    "## 6. Konfidenzintervall\n",
    "\n",
    "Bereche die obere und untere Grenze des Konfidenzintervalls für den Mittelwert einer Variable unter Annahme einer Normalverteilung und einem Konfidenzniveau von 0,95."
   ]
  },
  {
   "cell_type": "markdown",
   "metadata": {},
   "source": [
    "Das **Konfidenzintervall** ist eine Art von Intervallschätzung, die\n",
    "einen wahrscheinlichen Bereich angibt, in dem ein unbekannter\n",
    "Parameter einer Population liegen könnte.\n",
    "\n",
    "### Schritte zur Berechnung des Konfidenzintervalls\n",
    "- Berechne den Mittelwert der Variable.\n",
    "- Berechne die Standardabweichung der Variable.\n",
    "- Berechne den Standardfehler des Mittelwerts\n",
    "- Bestimme den t-Wert für das Konfidenzniveau von 0,95 und der entsprechenden Freiheitsgrade\n",
    "- Berechne die obere und untere Grenze des Konfidenzintervalls."
   ]
  },
  {
   "cell_type": "code",
   "execution_count": 57,
   "metadata": {},
   "outputs": [],
   "source": [
    "#!pip install --upgrade pip"
   ]
  },
  {
   "cell_type": "code",
   "execution_count": 59,
   "metadata": {},
   "outputs": [],
   "source": [
    "#!pip install numpy"
   ]
  },
  {
   "cell_type": "code",
   "execution_count": 61,
   "metadata": {},
   "outputs": [],
   "source": [
    "#!pip install scipy"
   ]
  },
  {
   "cell_type": "markdown",
   "metadata": {},
   "source": [
    "# Konfidenzintervall berechnen\n",
    "https://docs.scipy.org/doc/scipy/reference/generated/scipy.stats.norm.html\n",
    "\n",
    "https://statologie.de/konfidenzintervall-python/"
   ]
  },
  {
   "cell_type": "markdown",
   "metadata": {},
   "source": [
    "- in der offiziellen Dokumentation von `scipy.stats.norm`: wie berechnet man ein Konfidenzintervall unter der Annahme einer Normalverteilung\n",
    "- Die Funktion **`norm.interval()`** wird verwendet, um ein Konfidenzintervall mit gleich großen Bereichen um den Median zu bestimmen.\n",
    "\n",
    "**`scipy.stats.norm.interval(confidence, loc=0, scale=1)`**\n",
    "\n",
    "`confidence`: Das gewünschte Konfidenzniveau (z. B. 0.95 für ein 95%-Konfidenzintervall).\n",
    "\n",
    "`loc`: Der Mittelwert der Verteilung.\n",
    "\n",
    "`scale`: Die Standardabweichung der Verteilung.​"
   ]
  },
  {
   "cell_type": "code",
   "execution_count": 71,
   "metadata": {},
   "outputs": [],
   "source": [
    "#!pip install --upgrade scipy"
   ]
  },
  {
   "cell_type": "code",
   "execution_count": 4,
   "metadata": {},
   "outputs": [],
   "source": [
    "import pandas as pd\n",
    "\n",
    "# Direkt von der URL den Datensatz laden\n",
    "url = \"https://raw.githubusercontent.com/allisonhorst/palmerpenguins/master/inst/extdata/penguins.csv\"\n",
    "\n",
    "# Lade den Datensatz in ein Pandas DataFrame\n",
    "df = pd.read_csv(url)"
   ]
  },
  {
   "cell_type": "code",
   "execution_count": 3,
   "metadata": {},
   "outputs": [
    {
     "name": "stdout",
     "output_type": "stream",
     "text": [
      "95%-Konfidenzintervall für die Schnabellänge der Pinguine: (np.float64(43.343308323543695), np.float64(44.50055132557911))\n"
     ]
    }
   ],
   "source": [
    "import numpy as np\n",
    "import scipy.stats as st\n",
    "\n",
    "# Beispiel: Pinguin-Daten (bill_length_mm) aus deinem DataFrame\n",
    "bill_length_mm = df['bill_length_mm'].dropna()  # Entfernt Null-Werte, falls vorhanden\n",
    "\n",
    "# Berechne den Mittelwert und den Standardfehler\n",
    "mean_bill_length = np.mean(bill_length_mm) \n",
    "sem_bill_length = st.sem(bill_length_mm) # Standardfehler des Mittelwerts\n",
    "\n",
    "# Berechne das 95%-Konfidenzintervall (korrekte Reihenfolge der Argumente)\n",
    "confidence_interval = st.norm.interval(0.95, loc=mean_bill_length, scale=sem_bill_length)\n",
    "\n",
    "# Ausgabe des Konfidenzintervalls\n",
    "print(f\"95%-Konfidenzintervall für die Schnabellänge der Pinguine: {confidence_interval}\")"
   ]
  },
  {
   "cell_type": "markdown",
   "metadata": {},
   "source": [
    "**Erklärung:**\n",
    "\n",
    "`st.norm.interval(0.95, ...)`: Dies berechnet das 95%-Konfidenzintervall. Der Wert 0.95 ist das Konfidenzniveau.\n",
    "\n",
    "`loc=mean_bill_length`: Der Mittelwert der Schnabellängen der Pinguine.\n",
    "\n",
    "`scale=sem_bill_length`: Der Standardfehler des Mittelwerts."
   ]
  },
  {
   "cell_type": "markdown",
   "metadata": {},
   "source": [
    "### ----- Ausführliche Varinate zur Berechnung des Konfidenzintervalls -----"
   ]
  },
  {
   "cell_type": "code",
   "execution_count": 62,
   "metadata": {},
   "outputs": [
    {
     "name": "stdout",
     "output_type": "stream",
     "text": [
      "Mittelwert: 43.9219298245614\n",
      "Standardabweichung: 5.4595837139265315\n",
      "Standardfehler: 0.29522047628517617\n",
      "t-Wert: 1.9669451293270581\n",
      "Konfidenzintervall: (43.34124734665466, 44.502612302468144)\n"
     ]
    }
   ],
   "source": [
    "import numpy as np\n",
    "from scipy import stats\n",
    "\n",
    "# für bill_length\n",
    "data = df['bill_length_mm'].dropna()  \n",
    "\n",
    "# 1. Mittelwert\n",
    "mean = np.mean(data)\n",
    "\n",
    "# 2. Standardabweichung\n",
    "std_dev = np.std(data, ddof=1) # ddof=1 -> die Stichprobenstandardabweichung wird berechnet\n",
    "\n",
    "# 3. Standardfehler\n",
    "n = len(data)\n",
    "se = std_dev / np.sqrt(n)\n",
    "\n",
    "# 4. t-Wert für ein 95% Konfidenzintervall\n",
    "confidence_level = 0.95\n",
    "t_value = stats.t.ppf((1 + confidence_level) / 2, df=n-1)  # Freiheitsgrade = n-1\n",
    "\n",
    "# 5. Konfidenzintervall berechnen\n",
    "margin_of_error = t_value * se\n",
    "lower_bound = mean - margin_of_error\n",
    "upper_bound = mean + margin_of_error\n",
    "\n",
    "# Ergebnis anzeigen\n",
    "print(f\"Mittelwert: {mean}\")\n",
    "print(f\"Standardabweichung: {std_dev}\")\n",
    "print(f\"Standardfehler: {se}\")\n",
    "print(f\"t-Wert: {t_value}\")\n",
    "print(f\"Konfidenzintervall: ({lower_bound}, {upper_bound})\")\n"
   ]
  },
  {
   "cell_type": "markdown",
   "metadata": {
    "jp-MarkdownHeadingCollapsed": true
   },
   "source": [
    "#### Interpretation:\n",
    "- **Mittelwert** (43.92): Der Mittelwert gibt an, dass der durchschnittliche Wert der Schnabellänge der Pinguine in deinem Datensatz 43,92 mm beträgt.\n",
    "- **Standardabweichung** (5.46): Die Standardabweichung misst, wie stark die einzelnen Werte von diesem Mittelwert abweichen. Eine Standardabweichung von 5,46 mm bedeutet, dass die Schnabellängen der Pinguine im Durchschnitt etwa 5,46 mm von 43,92 mm abweichen.\n",
    "- **Standardfehler** (0.30): Der Standardfehler gibt an, wie genau der Mittelwert in Bezug auf die wahre durchschnittliche Schnabellänge der gesamten Population geschätzt wird. Ein Standardfehler von 0,30 bedeutet, dass wir den Mittelwert des Datensatzes mit einer gewissen Unsicherheit schätzen. Je kleiner der Standardfehler, desto genauer ist unsere Schätzung.\n",
    "- **t-Wert** (1.97): Der t-Wert ist ein Wert aus der t-Verteilung, der für die Berechnung des Konfidenzintervalls verwendet wird. Dieser Wert hängt vom gewünschten Konfidenzniveau (hier 95%) und den Freiheitsgraden (n-1) ab. Der t-Wert von 1,97 ist typisch für ein 95%-Konfidenzniveau.\n",
    "- **Konfidenzintervall** (43.34, 44.50): Das Konfidenzintervall gibt den Bereich an, in dem wir mit 95%iger Sicherheit den wahren Mittelwert der Schnabellängen der Pinguine in der gesamten Population erwarten. Das bedeutet:\n",
    "\n",
    "        Wir sind zu 95% sicher, dass der wahre durchschnittliche Wert der Schnabellänge der Pinguine zwischen 43,34 mm und 44,50 mm liegt.\n",
    "\n",
    "&rarr; Wenn ich dieses Experiment viele Male wiederholen würde (d.h. viele verschiedene Stichproben ziehe), würden 95% dieser Stichprobenmittelwerte in diesem Bereich liegen.\n",
    "\n",
    "**Fazit:**\n",
    "\n",
    "Das Konfidenzintervall zeigt, dass der wahre Mittelwert der Schnabellänge der Pinguine mit hoher Wahrscheinlichkeit zwischen 43,34 mm und 44,50 mm liegt. Das Intervall gibt uns eine Vorstellung von der Unsicherheit unserer Schätzung, aber es stellt sicher, dass wir mit 95%iger Sicherheit sagen können, dass der wahre Mittelwert irgendwo in diesem Bereich liegt.\n"
   ]
  }
 ],
 "metadata": {
  "kernelspec": {
   "display_name": "Python 3 (ipykernel)",
   "language": "python",
   "name": "python3"
  },
  "language_info": {
   "codemirror_mode": {
    "name": "ipython",
    "version": 3
   },
   "file_extension": ".py",
   "mimetype": "text/x-python",
   "name": "python",
   "nbconvert_exporter": "python",
   "pygments_lexer": "ipython3",
   "version": "3.13.3"
  }
 },
 "nbformat": 4,
 "nbformat_minor": 4
}
